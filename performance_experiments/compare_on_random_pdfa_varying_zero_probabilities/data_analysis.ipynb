{
 "cells": [
  {
   "cell_type": "code",
   "execution_count": 1,
   "metadata": {},
   "outputs": [],
   "source": [
    "import pandas as pd\n",
    "import numpy as np\n",
    "import matplotlib.pyplot as plt\n",
    "import seaborn as sns"
   ]
  },
  {
   "cell_type": "markdown",
   "metadata": {},
   "source": [
    "# Data Loading"
   ]
  },
  {
   "cell_type": "code",
   "execution_count": 2,
   "metadata": {},
   "outputs": [],
   "source": [
    "evaluation_data = pd.read_csv('./results/results_09_04_2024_19_10_29.csv')"
   ]
  },
  {
   "cell_type": "markdown",
   "metadata": {},
   "source": [
    "# Results Analysis"
   ]
  },
  {
   "cell_type": "code",
   "execution_count": 3,
   "metadata": {},
   "outputs": [],
   "source": [
    "evaluation_data.drop('Unnamed: 0', axis = 1, inplace = True)"
   ]
  },
  {
   "cell_type": "code",
   "execution_count": 4,
   "metadata": {},
   "outputs": [
    {
     "name": "stdout",
     "output_type": "stream",
     "text": [
      "1500\n"
     ]
    },
    {
     "data": {
      "text/html": [
       "<div>\n",
       "<style scoped>\n",
       "    .dataframe tbody tr th:only-of-type {\n",
       "        vertical-align: middle;\n",
       "    }\n",
       "\n",
       "    .dataframe tbody tr th {\n",
       "        vertical-align: top;\n",
       "    }\n",
       "\n",
       "    .dataframe thead th {\n",
       "        text-align: right;\n",
       "    }\n",
       "</style>\n",
       "<table border=\"1\" class=\"dataframe\">\n",
       "  <thead>\n",
       "    <tr style=\"text-align: right;\">\n",
       "      <th></th>\n",
       "      <th>Algorithm</th>\n",
       "      <th>Instance</th>\n",
       "      <th>Number of States</th>\n",
       "      <th>Extracted Number of States</th>\n",
       "      <th>RunNumber</th>\n",
       "      <th>Time(s)</th>\n",
       "      <th>LastTokenQuery</th>\n",
       "      <th>EquivalenceQuery</th>\n",
       "      <th>Tree Depth</th>\n",
       "      <th>Inner Nodes</th>\n",
       "      <th>Accuracy_in_target</th>\n",
       "      <th>Accuracy_anywhere</th>\n",
       "      <th>IsEquivalentExact</th>\n",
       "      <th>IsEquivalentOmitZero</th>\n",
       "      <th>IsMinimal</th>\n",
       "    </tr>\n",
       "  </thead>\n",
       "  <tbody>\n",
       "    <tr>\n",
       "      <th>1490</th>\n",
       "      <td>QuantNaryTreeLearner_Standard_Teacher_exact_te...</td>\n",
       "      <td>random_PDFA_nominal_size_0_98_9</td>\n",
       "      <td>501</td>\n",
       "      <td>501</td>\n",
       "      <td>1</td>\n",
       "      <td>334.080285</td>\n",
       "      <td>688989</td>\n",
       "      <td>72</td>\n",
       "      <td>16</td>\n",
       "      <td>16</td>\n",
       "      <td>1.0</td>\n",
       "      <td>1.0</td>\n",
       "      <td>True</td>\n",
       "      <td>True</td>\n",
       "      <td>True</td>\n",
       "    </tr>\n",
       "    <tr>\n",
       "      <th>1491</th>\n",
       "      <td>QuantNaryTreeLearner_Standard_Teacher_exact_te...</td>\n",
       "      <td>random_PDFA_nominal_size_0_98_9</td>\n",
       "      <td>501</td>\n",
       "      <td>501</td>\n",
       "      <td>2</td>\n",
       "      <td>335.863449</td>\n",
       "      <td>688989</td>\n",
       "      <td>72</td>\n",
       "      <td>16</td>\n",
       "      <td>16</td>\n",
       "      <td>1.0</td>\n",
       "      <td>1.0</td>\n",
       "      <td>True</td>\n",
       "      <td>True</td>\n",
       "      <td>True</td>\n",
       "    </tr>\n",
       "    <tr>\n",
       "      <th>1492</th>\n",
       "      <td>QuantNaryTreeLearner_Standard_Teacher_exact_te...</td>\n",
       "      <td>random_PDFA_nominal_size_0_98_9</td>\n",
       "      <td>501</td>\n",
       "      <td>501</td>\n",
       "      <td>3</td>\n",
       "      <td>334.376774</td>\n",
       "      <td>688989</td>\n",
       "      <td>72</td>\n",
       "      <td>16</td>\n",
       "      <td>16</td>\n",
       "      <td>1.0</td>\n",
       "      <td>1.0</td>\n",
       "      <td>True</td>\n",
       "      <td>True</td>\n",
       "      <td>True</td>\n",
       "    </tr>\n",
       "    <tr>\n",
       "      <th>1493</th>\n",
       "      <td>QuantNaryTreeLearner_Standard_Teacher_exact_te...</td>\n",
       "      <td>random_PDFA_nominal_size_0_98_9</td>\n",
       "      <td>501</td>\n",
       "      <td>501</td>\n",
       "      <td>4</td>\n",
       "      <td>334.983923</td>\n",
       "      <td>688989</td>\n",
       "      <td>72</td>\n",
       "      <td>16</td>\n",
       "      <td>16</td>\n",
       "      <td>1.0</td>\n",
       "      <td>1.0</td>\n",
       "      <td>True</td>\n",
       "      <td>True</td>\n",
       "      <td>True</td>\n",
       "    </tr>\n",
       "    <tr>\n",
       "      <th>1494</th>\n",
       "      <td>QuantNaryTreeLearner_Standard_Teacher_exact_te...</td>\n",
       "      <td>random_PDFA_nominal_size_0_98_9</td>\n",
       "      <td>501</td>\n",
       "      <td>501</td>\n",
       "      <td>5</td>\n",
       "      <td>339.801847</td>\n",
       "      <td>688989</td>\n",
       "      <td>72</td>\n",
       "      <td>16</td>\n",
       "      <td>16</td>\n",
       "      <td>1.0</td>\n",
       "      <td>1.0</td>\n",
       "      <td>True</td>\n",
       "      <td>True</td>\n",
       "      <td>True</td>\n",
       "    </tr>\n",
       "    <tr>\n",
       "      <th>1495</th>\n",
       "      <td>QuantNaryTreeLearner_Standard_Teacher_exact_te...</td>\n",
       "      <td>random_PDFA_nominal_size_0_98_9</td>\n",
       "      <td>501</td>\n",
       "      <td>501</td>\n",
       "      <td>6</td>\n",
       "      <td>335.539221</td>\n",
       "      <td>688989</td>\n",
       "      <td>72</td>\n",
       "      <td>16</td>\n",
       "      <td>16</td>\n",
       "      <td>1.0</td>\n",
       "      <td>1.0</td>\n",
       "      <td>True</td>\n",
       "      <td>True</td>\n",
       "      <td>True</td>\n",
       "    </tr>\n",
       "    <tr>\n",
       "      <th>1496</th>\n",
       "      <td>QuantNaryTreeLearner_Standard_Teacher_exact_te...</td>\n",
       "      <td>random_PDFA_nominal_size_0_98_9</td>\n",
       "      <td>501</td>\n",
       "      <td>501</td>\n",
       "      <td>7</td>\n",
       "      <td>336.278840</td>\n",
       "      <td>688989</td>\n",
       "      <td>72</td>\n",
       "      <td>16</td>\n",
       "      <td>16</td>\n",
       "      <td>1.0</td>\n",
       "      <td>1.0</td>\n",
       "      <td>True</td>\n",
       "      <td>True</td>\n",
       "      <td>True</td>\n",
       "    </tr>\n",
       "    <tr>\n",
       "      <th>1497</th>\n",
       "      <td>QuantNaryTreeLearner_Standard_Teacher_exact_te...</td>\n",
       "      <td>random_PDFA_nominal_size_0_98_9</td>\n",
       "      <td>501</td>\n",
       "      <td>501</td>\n",
       "      <td>8</td>\n",
       "      <td>337.365689</td>\n",
       "      <td>688989</td>\n",
       "      <td>72</td>\n",
       "      <td>16</td>\n",
       "      <td>16</td>\n",
       "      <td>1.0</td>\n",
       "      <td>1.0</td>\n",
       "      <td>True</td>\n",
       "      <td>True</td>\n",
       "      <td>True</td>\n",
       "    </tr>\n",
       "    <tr>\n",
       "      <th>1498</th>\n",
       "      <td>QuantNaryTreeLearner_Standard_Teacher_exact_te...</td>\n",
       "      <td>random_PDFA_nominal_size_0_98_9</td>\n",
       "      <td>501</td>\n",
       "      <td>501</td>\n",
       "      <td>9</td>\n",
       "      <td>337.097750</td>\n",
       "      <td>688989</td>\n",
       "      <td>72</td>\n",
       "      <td>16</td>\n",
       "      <td>16</td>\n",
       "      <td>1.0</td>\n",
       "      <td>1.0</td>\n",
       "      <td>True</td>\n",
       "      <td>True</td>\n",
       "      <td>True</td>\n",
       "    </tr>\n",
       "    <tr>\n",
       "      <th>1499</th>\n",
       "      <td>QuantNaryTreeLearner_Standard_Teacher_exact_te...</td>\n",
       "      <td>random_PDFA_nominal_size_0_98_9</td>\n",
       "      <td>501</td>\n",
       "      <td>501</td>\n",
       "      <td>10</td>\n",
       "      <td>334.838432</td>\n",
       "      <td>688989</td>\n",
       "      <td>72</td>\n",
       "      <td>16</td>\n",
       "      <td>16</td>\n",
       "      <td>1.0</td>\n",
       "      <td>1.0</td>\n",
       "      <td>True</td>\n",
       "      <td>True</td>\n",
       "      <td>True</td>\n",
       "    </tr>\n",
       "  </tbody>\n",
       "</table>\n",
       "</div>"
      ],
      "text/plain": [
       "                                              Algorithm  \\\n",
       "1490  QuantNaryTreeLearner_Standard_Teacher_exact_te...   \n",
       "1491  QuantNaryTreeLearner_Standard_Teacher_exact_te...   \n",
       "1492  QuantNaryTreeLearner_Standard_Teacher_exact_te...   \n",
       "1493  QuantNaryTreeLearner_Standard_Teacher_exact_te...   \n",
       "1494  QuantNaryTreeLearner_Standard_Teacher_exact_te...   \n",
       "1495  QuantNaryTreeLearner_Standard_Teacher_exact_te...   \n",
       "1496  QuantNaryTreeLearner_Standard_Teacher_exact_te...   \n",
       "1497  QuantNaryTreeLearner_Standard_Teacher_exact_te...   \n",
       "1498  QuantNaryTreeLearner_Standard_Teacher_exact_te...   \n",
       "1499  QuantNaryTreeLearner_Standard_Teacher_exact_te...   \n",
       "\n",
       "                             Instance  Number of States  \\\n",
       "1490  random_PDFA_nominal_size_0_98_9               501   \n",
       "1491  random_PDFA_nominal_size_0_98_9               501   \n",
       "1492  random_PDFA_nominal_size_0_98_9               501   \n",
       "1493  random_PDFA_nominal_size_0_98_9               501   \n",
       "1494  random_PDFA_nominal_size_0_98_9               501   \n",
       "1495  random_PDFA_nominal_size_0_98_9               501   \n",
       "1496  random_PDFA_nominal_size_0_98_9               501   \n",
       "1497  random_PDFA_nominal_size_0_98_9               501   \n",
       "1498  random_PDFA_nominal_size_0_98_9               501   \n",
       "1499  random_PDFA_nominal_size_0_98_9               501   \n",
       "\n",
       "      Extracted Number of States  RunNumber     Time(s)  LastTokenQuery  \\\n",
       "1490                         501          1  334.080285          688989   \n",
       "1491                         501          2  335.863449          688989   \n",
       "1492                         501          3  334.376774          688989   \n",
       "1493                         501          4  334.983923          688989   \n",
       "1494                         501          5  339.801847          688989   \n",
       "1495                         501          6  335.539221          688989   \n",
       "1496                         501          7  336.278840          688989   \n",
       "1497                         501          8  337.365689          688989   \n",
       "1498                         501          9  337.097750          688989   \n",
       "1499                         501         10  334.838432          688989   \n",
       "\n",
       "      EquivalenceQuery  Tree Depth  Inner Nodes  Accuracy_in_target  \\\n",
       "1490                72          16           16                 1.0   \n",
       "1491                72          16           16                 1.0   \n",
       "1492                72          16           16                 1.0   \n",
       "1493                72          16           16                 1.0   \n",
       "1494                72          16           16                 1.0   \n",
       "1495                72          16           16                 1.0   \n",
       "1496                72          16           16                 1.0   \n",
       "1497                72          16           16                 1.0   \n",
       "1498                72          16           16                 1.0   \n",
       "1499                72          16           16                 1.0   \n",
       "\n",
       "      Accuracy_anywhere  IsEquivalentExact  IsEquivalentOmitZero  IsMinimal  \n",
       "1490                1.0               True                  True       True  \n",
       "1491                1.0               True                  True       True  \n",
       "1492                1.0               True                  True       True  \n",
       "1493                1.0               True                  True       True  \n",
       "1494                1.0               True                  True       True  \n",
       "1495                1.0               True                  True       True  \n",
       "1496                1.0               True                  True       True  \n",
       "1497                1.0               True                  True       True  \n",
       "1498                1.0               True                  True       True  \n",
       "1499                1.0               True                  True       True  "
      ]
     },
     "execution_count": 4,
     "metadata": {},
     "output_type": "execute_result"
    }
   ],
   "source": [
    "print(len(evaluation_data))\n",
    "evaluation_data.tail(10)"
   ]
  },
  {
   "cell_type": "code",
   "execution_count": 5,
   "metadata": {},
   "outputs": [
    {
     "data": {
      "text/plain": [
       "Index(['Algorithm', 'Instance', 'Number of States',\n",
       "       'Extracted Number of States', 'RunNumber', 'Time(s)', 'LastTokenQuery',\n",
       "       'EquivalenceQuery', 'Tree Depth', 'Inner Nodes', 'Accuracy_in_target',\n",
       "       'Accuracy_anywhere', 'IsEquivalentExact', 'IsEquivalentOmitZero',\n",
       "       'IsMinimal'],\n",
       "      dtype='object')"
      ]
     },
     "execution_count": 5,
     "metadata": {},
     "output_type": "execute_result"
    }
   ],
   "source": [
    "evaluation_data.columns"
   ]
  },
  {
   "cell_type": "code",
   "execution_count": 6,
   "metadata": {},
   "outputs": [
    {
     "data": {
      "text/plain": [
       "QuantNaryTreeLearner_Omit_Zero_Transitions_exact_teacher    500\n",
       "QuantNaryTreeLearner_Teacher_Filter_exact                   500\n",
       "QuantNaryTreeLearner_Standard_Teacher_exact_teacher         500\n",
       "Name: Algorithm, dtype: int64"
      ]
     },
     "execution_count": 6,
     "metadata": {},
     "output_type": "execute_result"
    }
   ],
   "source": [
    "evaluation_data['Algorithm'].value_counts()"
   ]
  },
  {
   "cell_type": "code",
   "execution_count": 7,
   "metadata": {},
   "outputs": [],
   "source": [
    "def get_prob(x):\n",
    "    splitted = x.split('_')\n",
    "    return float(\"0.\"+splitted[5])\n",
    "\n",
    "evaluation_data['Zero_Probability'] = evaluation_data['Instance'].apply(lambda x: get_prob(x))"
   ]
  },
  {
   "cell_type": "code",
   "execution_count": 8,
   "metadata": {},
   "outputs": [],
   "source": [
    "import math\n",
    "\n",
    "evaluation_data['TREE_SIZE'] = evaluation_data['Inner Nodes']+evaluation_data['Extracted Number of States']"
   ]
  },
  {
   "cell_type": "code",
   "execution_count": 9,
   "metadata": {},
   "outputs": [],
   "source": [
    "def IQR(data):\n",
    "    Q1 = data.quantile(0.25)\n",
    "    Q3 = data.quantile(0.75)\n",
    "    res = Q3 - Q1\n",
    "    return res\n",
    "\n",
    "cols_to_agg = ['Time(s)', 'LastTokenQuery', 'EquivalenceQuery', 'Extracted Number of States', 'Accuracy_in_target', 'Accuracy_anywhere', 'TREE_SIZE']\n",
    "funcs =  ['median', IQR]  \n",
    "names = ['median', 'IQR']  \n",
    "grouped_multiple = evaluation_data.groupby(['Algorithm', 'Zero_Probability']).agg({x:funcs for x in cols_to_agg})\n",
    "col_names = [x+\"_\"+fun_name for x in cols_to_agg for fun_name in names]\n",
    "grouped_multiple.columns = col_names\n",
    "#grouped_multiple.columns = ['Time(s)_median','Time(s)_IQR', 'MembershipQuery_median', 'MembershipQuery_IQR', \n",
    "#'EquivalenceQuery_median', 'EquivalenceQuery_IQR', 'Extracted Number of States_median', 'Extracted Number of States_IQR',]\n",
    "grouped_multiple.reset_index(inplace = True)"
   ]
  },
  {
   "cell_type": "code",
   "execution_count": 10,
   "metadata": {},
   "outputs": [
    {
     "data": {
      "text/plain": [
       "Index(['Algorithm', 'Instance', 'Number of States',\n",
       "       'Extracted Number of States', 'RunNumber', 'Time(s)', 'LastTokenQuery',\n",
       "       'EquivalenceQuery', 'Tree Depth', 'Inner Nodes', 'Accuracy_in_target',\n",
       "       'Accuracy_anywhere', 'IsEquivalentExact', 'IsEquivalentOmitZero',\n",
       "       'IsMinimal', 'Zero_Probability', 'TREE_SIZE'],\n",
       "      dtype='object')"
      ]
     },
     "execution_count": 10,
     "metadata": {},
     "output_type": "execute_result"
    }
   ],
   "source": [
    "evaluation_data.columns"
   ]
  },
  {
   "cell_type": "code",
   "execution_count": 11,
   "metadata": {},
   "outputs": [],
   "source": [
    "evaluation_data_exact = evaluation_data[evaluation_data[\"Algorithm\"].apply(lambda x: 'exact' in str(x))]\n",
    "evaluation_data_sampling =  evaluation_data[evaluation_data[\"Algorithm\"].apply(lambda x: 'exact' not in str(x))]"
   ]
  },
  {
   "cell_type": "code",
   "execution_count": 13,
   "metadata": {},
   "outputs": [
    {
     "data": {
      "image/png": "[encoded data removed]",
      "text/plain": [
       "<Figure size 308.16x238.176 with 1 Axes>"
      ]
     },
     "metadata": {},
     "output_type": "display_data"
    }
   ],
   "source": [
    "sns.set(rc={'figure.figsize':(10.7/2.5,8.27/2.5)})\n",
    "sns.set_style(\"whitegrid\")\n",
    "# Compute quartiles\n",
    "quartiles = evaluation_data_exact.groupby(['Algorithm', 'Zero_Probability'])['Time(s)'].quantile([0.25, 0.5, 0.75]).unstack(level=0)\n",
    "\n",
    "# Calculate means\n",
    "means = evaluation_data_exact.groupby(['Algorithm', 'Zero_Probability'])['Time(s)'].median().unstack(level=0)\n",
    "\n",
    "# Plot quartiles with error bars\n",
    "for algo in evaluation_data_exact['Algorithm'].unique():\n",
    "    sns.lineplot(data=means[algo], marker='o', label=algo, linewidth = 3)\n",
    "    #plt.errorbar(x=means.index, y=means[algo], yerr=[means[algo] - quartiles[algo].loc[:,0.25], quartiles[algo].loc[:,0.75] - means[algo]], fmt='o')\n",
    "    plt.fill_between(x=means.index, y1=quartiles[algo].loc[:,0.25], y2= quartiles[algo].loc[:,0.75], alpha = 0.4)\n",
    "\n",
    "plt.legend(title='Algorithm', fontsize=12, frameon=True, loc = 'upper left')\n",
    "plt.xlabel(\"Zero Probability\", fontsize=12)\n",
    "plt.ylabel(\"Learning Time (s)\", fontsize=12)\n",
    "\n",
    "new_labels = [\"Omit Zero Transitions\",\" Teacher Filter\",\"Standard Algorithm\"]\n",
    "for t, l in zip(plt.gca().get_legend().get_texts(), new_labels):\n",
    "    t.set_text(l)\n",
    "\n",
    "plt.show()"
   ]
  }
 ],
 "metadata": {
  "interpreter": {
   "hash": "ccd85e264f409eb34496ed1f618ace649acf293164c04c6c014b744b9959793c"
  },
  "kernelspec": {
   "display_name": "Python 3 (ipykernel)",
   "language": "python",
   "name": "python3"
  },
  "language_info": {
   "codemirror_mode": {
    "name": "ipython",
    "version": 3
   },
   "file_extension": ".py",
   "mimetype": "text/x-python",
   "name": "python",
   "nbconvert_exporter": "python",
   "pygments_lexer": "ipython3",
   "version": "3.9.19"
  }
 },
 "nbformat": 4,
 "nbformat_minor": 2
}
