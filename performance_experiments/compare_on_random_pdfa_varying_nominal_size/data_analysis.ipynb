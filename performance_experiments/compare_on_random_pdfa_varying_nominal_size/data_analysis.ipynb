{
 "cells": [
  {
   "cell_type": "code",
   "execution_count": 1,
   "metadata": {},
   "outputs": [],
   "source": [
    "import pandas as pd\n",
    "import numpy as np\n",
    "import matplotlib.pyplot as plt\n",
    "import seaborn as sns"
   ]
  },
  {
   "cell_type": "markdown",
   "metadata": {},
   "source": [
    "# Data Loading"
   ]
  },
  {
   "cell_type": "code",
   "execution_count": 2,
   "metadata": {},
   "outputs": [],
   "source": [
    "evaluation_data = pd.read_csv('./results/results_10_04_2024_07_49_18.csv')"
   ]
  },
  {
   "cell_type": "markdown",
   "metadata": {},
   "source": [
    "# Results Analysis"
   ]
  },
  {
   "cell_type": "code",
   "execution_count": 3,
   "metadata": {},
   "outputs": [],
   "source": [
    "evaluation_data.drop('Unnamed: 0', axis = 1, inplace = True)"
   ]
  },
  {
   "cell_type": "code",
   "execution_count": 4,
   "metadata": {},
   "outputs": [
    {
     "name": "stdout",
     "output_type": "stream",
     "text": [
      "1200\n"
     ]
    },
    {
     "data": {
      "text/html": [
       "<div>\n",
       "<style scoped>\n",
       "    .dataframe tbody tr th:only-of-type {\n",
       "        vertical-align: middle;\n",
       "    }\n",
       "\n",
       "    .dataframe tbody tr th {\n",
       "        vertical-align: top;\n",
       "    }\n",
       "\n",
       "    .dataframe thead th {\n",
       "        text-align: right;\n",
       "    }\n",
       "</style>\n",
       "<table border=\"1\" class=\"dataframe\">\n",
       "  <thead>\n",
       "    <tr style=\"text-align: right;\">\n",
       "      <th></th>\n",
       "      <th>Algorithm</th>\n",
       "      <th>Instance</th>\n",
       "      <th>Number of States</th>\n",
       "      <th>Extracted Number of States</th>\n",
       "      <th>RunNumber</th>\n",
       "      <th>Time(s)</th>\n",
       "      <th>LastTokenQuery</th>\n",
       "      <th>EquivalenceQuery</th>\n",
       "      <th>Tree Depth</th>\n",
       "      <th>Inner Nodes</th>\n",
       "      <th>Accuracy_in_target</th>\n",
       "      <th>Accuracy_anywhere</th>\n",
       "      <th>IsEquivalentExact</th>\n",
       "      <th>IsEquivalentOmitZero</th>\n",
       "      <th>IsMinimal</th>\n",
       "    </tr>\n",
       "  </thead>\n",
       "  <tbody>\n",
       "    <tr>\n",
       "      <th>1195</th>\n",
       "      <td>QuantNaryTreeLearner_Standard_Teacher_exact_te...</td>\n",
       "      <td>random_PDFA_nominal_size_500_5</td>\n",
       "      <td>501</td>\n",
       "      <td>501</td>\n",
       "      <td>6</td>\n",
       "      <td>193.496870</td>\n",
       "      <td>108471</td>\n",
       "      <td>98</td>\n",
       "      <td>5</td>\n",
       "      <td>5</td>\n",
       "      <td>1.0</td>\n",
       "      <td>1.0</td>\n",
       "      <td>True</td>\n",
       "      <td>True</td>\n",
       "      <td>True</td>\n",
       "    </tr>\n",
       "    <tr>\n",
       "      <th>1196</th>\n",
       "      <td>QuantNaryTreeLearner_Standard_Teacher_exact_te...</td>\n",
       "      <td>random_PDFA_nominal_size_500_5</td>\n",
       "      <td>501</td>\n",
       "      <td>501</td>\n",
       "      <td>7</td>\n",
       "      <td>194.374816</td>\n",
       "      <td>108471</td>\n",
       "      <td>98</td>\n",
       "      <td>5</td>\n",
       "      <td>5</td>\n",
       "      <td>1.0</td>\n",
       "      <td>1.0</td>\n",
       "      <td>True</td>\n",
       "      <td>True</td>\n",
       "      <td>True</td>\n",
       "    </tr>\n",
       "    <tr>\n",
       "      <th>1197</th>\n",
       "      <td>QuantNaryTreeLearner_Standard_Teacher_exact_te...</td>\n",
       "      <td>random_PDFA_nominal_size_500_5</td>\n",
       "      <td>501</td>\n",
       "      <td>501</td>\n",
       "      <td>8</td>\n",
       "      <td>192.846274</td>\n",
       "      <td>108471</td>\n",
       "      <td>98</td>\n",
       "      <td>5</td>\n",
       "      <td>5</td>\n",
       "      <td>1.0</td>\n",
       "      <td>1.0</td>\n",
       "      <td>True</td>\n",
       "      <td>True</td>\n",
       "      <td>True</td>\n",
       "    </tr>\n",
       "    <tr>\n",
       "      <th>1198</th>\n",
       "      <td>QuantNaryTreeLearner_Standard_Teacher_exact_te...</td>\n",
       "      <td>random_PDFA_nominal_size_500_5</td>\n",
       "      <td>501</td>\n",
       "      <td>501</td>\n",
       "      <td>9</td>\n",
       "      <td>193.441047</td>\n",
       "      <td>108471</td>\n",
       "      <td>98</td>\n",
       "      <td>5</td>\n",
       "      <td>5</td>\n",
       "      <td>1.0</td>\n",
       "      <td>1.0</td>\n",
       "      <td>True</td>\n",
       "      <td>True</td>\n",
       "      <td>True</td>\n",
       "    </tr>\n",
       "    <tr>\n",
       "      <th>1199</th>\n",
       "      <td>QuantNaryTreeLearner_Standard_Teacher_exact_te...</td>\n",
       "      <td>random_PDFA_nominal_size_500_5</td>\n",
       "      <td>501</td>\n",
       "      <td>501</td>\n",
       "      <td>10</td>\n",
       "      <td>192.974353</td>\n",
       "      <td>108471</td>\n",
       "      <td>98</td>\n",
       "      <td>5</td>\n",
       "      <td>5</td>\n",
       "      <td>1.0</td>\n",
       "      <td>1.0</td>\n",
       "      <td>True</td>\n",
       "      <td>True</td>\n",
       "      <td>True</td>\n",
       "    </tr>\n",
       "  </tbody>\n",
       "</table>\n",
       "</div>"
      ],
      "text/plain": [
       "                                              Algorithm  \\\n",
       "1195  QuantNaryTreeLearner_Standard_Teacher_exact_te...   \n",
       "1196  QuantNaryTreeLearner_Standard_Teacher_exact_te...   \n",
       "1197  QuantNaryTreeLearner_Standard_Teacher_exact_te...   \n",
       "1198  QuantNaryTreeLearner_Standard_Teacher_exact_te...   \n",
       "1199  QuantNaryTreeLearner_Standard_Teacher_exact_te...   \n",
       "\n",
       "                            Instance  Number of States  \\\n",
       "1195  random_PDFA_nominal_size_500_5               501   \n",
       "1196  random_PDFA_nominal_size_500_5               501   \n",
       "1197  random_PDFA_nominal_size_500_5               501   \n",
       "1198  random_PDFA_nominal_size_500_5               501   \n",
       "1199  random_PDFA_nominal_size_500_5               501   \n",
       "\n",
       "      Extracted Number of States  RunNumber     Time(s)  LastTokenQuery  \\\n",
       "1195                         501          6  193.496870          108471   \n",
       "1196                         501          7  194.374816          108471   \n",
       "1197                         501          8  192.846274          108471   \n",
       "1198                         501          9  193.441047          108471   \n",
       "1199                         501         10  192.974353          108471   \n",
       "\n",
       "      EquivalenceQuery  Tree Depth  Inner Nodes  Accuracy_in_target  \\\n",
       "1195                98           5            5                 1.0   \n",
       "1196                98           5            5                 1.0   \n",
       "1197                98           5            5                 1.0   \n",
       "1198                98           5            5                 1.0   \n",
       "1199                98           5            5                 1.0   \n",
       "\n",
       "      Accuracy_anywhere  IsEquivalentExact  IsEquivalentOmitZero  IsMinimal  \n",
       "1195                1.0               True                  True       True  \n",
       "1196                1.0               True                  True       True  \n",
       "1197                1.0               True                  True       True  \n",
       "1198                1.0               True                  True       True  \n",
       "1199                1.0               True                  True       True  "
      ]
     },
     "execution_count": 4,
     "metadata": {},
     "output_type": "execute_result"
    }
   ],
   "source": [
    "print(len(evaluation_data))\n",
    "evaluation_data.tail(5)"
   ]
  },
  {
   "cell_type": "code",
   "execution_count": 5,
   "metadata": {},
   "outputs": [],
   "source": [
    "def nearest_value(x, values):\n",
    "    return min(values, key=lambda y: abs(y - x))\n",
    "\n",
    "evaluation_data['Nominal_Size'] = evaluation_data['Number of States'].apply(lambda x: nearest_value(x, [250, 500,750,1000] ))"
   ]
  },
  {
   "cell_type": "code",
   "execution_count": 6,
   "metadata": {},
   "outputs": [],
   "source": [
    "import math\n",
    "\n",
    "evaluation_data['TREE_SIZE'] = evaluation_data['Inner Nodes']+evaluation_data['Extracted Number of States']"
   ]
  },
  {
   "cell_type": "code",
   "execution_count": 7,
   "metadata": {},
   "outputs": [],
   "source": [
    "def IQR(data):\n",
    "    Q1 = data.quantile(0.25)\n",
    "    Q3 = data.quantile(0.75)\n",
    "    res = Q3 - Q1\n",
    "    return res\n",
    "\n",
    "cols_to_agg = ['Time(s)', 'LastTokenQuery', 'EquivalenceQuery', 'Extracted Number of States', 'Accuracy_in_target', 'Accuracy_anywhere', 'TREE_SIZE']\n",
    "funcs =  ['median', IQR]  \n",
    "names = ['median', 'IQR']  \n",
    "grouped_multiple = evaluation_data.groupby(['Algorithm', 'Nominal_Size']).agg({x:funcs for x in cols_to_agg})\n",
    "col_names = [x+\"_\"+fun_name for x in cols_to_agg for fun_name in names]\n",
    "grouped_multiple.columns = col_names\n",
    "#grouped_multiple.columns = ['Time(s)_median','Time(s)_IQR', 'MembershipQuery_median', 'MembershipQuery_IQR', \n",
    "#'EquivalenceQuery_median', 'EquivalenceQuery_IQR', 'Extracted Number of States_median', 'Extracted Number of States_IQR',]\n",
    "grouped_multiple.reset_index(inplace = True)"
   ]
  },
  {
   "cell_type": "code",
   "execution_count": 8,
   "metadata": {},
   "outputs": [
    {
     "data": {
      "text/plain": [
       "Index(['Algorithm', 'Instance', 'Number of States',\n",
       "       'Extracted Number of States', 'RunNumber', 'Time(s)', 'LastTokenQuery',\n",
       "       'EquivalenceQuery', 'Tree Depth', 'Inner Nodes', 'Accuracy_in_target',\n",
       "       'Accuracy_anywhere', 'IsEquivalentExact', 'IsEquivalentOmitZero',\n",
       "       'IsMinimal', 'Nominal_Size', 'TREE_SIZE'],\n",
       "      dtype='object')"
      ]
     },
     "execution_count": 8,
     "metadata": {},
     "output_type": "execute_result"
    }
   ],
   "source": [
    "evaluation_data.columns"
   ]
  },
  {
   "cell_type": "code",
   "execution_count": 9,
   "metadata": {},
   "outputs": [
    {
     "data": {
      "text/plain": [
       "12"
      ]
     },
     "execution_count": 9,
     "metadata": {},
     "output_type": "execute_result"
    }
   ],
   "source": [
    "len(grouped_multiple)"
   ]
  },
  {
   "cell_type": "code",
   "execution_count": 10,
   "metadata": {},
   "outputs": [],
   "source": [
    "evaluation_data_exact = evaluation_data[evaluation_data[\"Algorithm\"].apply(lambda x: 'exact' in str(x))]\n",
    "evaluation_data_sampling =  evaluation_data[evaluation_data[\"Algorithm\"].apply(lambda x: 'exact' not in str(x))]"
   ]
  },
  {
   "cell_type": "code",
   "execution_count": 11,
   "metadata": {},
   "outputs": [
    {
     "data": {
      "image/png": "[encoded data removed]",
      "text/plain": [
       "<Figure size 308.16x238.176 with 1 Axes>"
      ]
     },
     "metadata": {},
     "output_type": "display_data"
    }
   ],
   "source": [
    "sns.set(rc={'figure.figsize':(10.7/2.5,8.27/2.5)})\n",
    "sns.set_style(\"whitegrid\")\n",
    "# Compute quartiles\n",
    "quartiles = evaluation_data_exact.groupby(['Algorithm', 'Nominal_Size'])['Time(s)'].quantile([0.25, 0.5, 0.75]).unstack(level=0)\n",
    "\n",
    "# Calculate means\n",
    "means = evaluation_data_exact.groupby(['Algorithm', 'Nominal_Size'])['Time(s)'].median().unstack(level=0)\n",
    "\n",
    "# Plot quartiles with error bars\n",
    "for algo in evaluation_data_exact['Algorithm'].unique():\n",
    "    sns.lineplot(data=means[algo], marker='o', label=algo, linewidth = 3)\n",
    "    #plt.errorbar(x=means.index, y=means[algo], yerr=[means[algo] - quartiles[algo].loc[:,0.25], quartiles[algo].loc[:,0.75] - means[algo]], fmt='o')\n",
    "    plt.fill_between(x=means.index, y1=quartiles[algo].loc[:,0.25], y2= quartiles[algo].loc[:,0.75], alpha = 0.4)\n",
    "\n",
    "plt.legend(title='Algorithm', fontsize=12, frameon=True, loc = 'upper left')\n",
    "plt.xlabel(\"Nominal Size\", fontsize=12)\n",
    "plt.ylabel(\"Learning Time (s)\", fontsize=12)\n",
    "\n",
    "new_labels = [\"Omit Zero Transitions\",\" Teacher Filter\",\"Standard Algorithm\"]\n",
    "for t, l in zip(plt.gca().get_legend().get_texts(), new_labels):\n",
    "    t.set_text(l)\n",
    "\n",
    "plt.show()"
   ]
  }
 ],
 "metadata": {
  "interpreter": {
   "hash": "ccd85e264f409eb34496ed1f618ace649acf293164c04c6c014b744b9959793c"
  },
  "kernelspec": {
   "display_name": "Python 3 (ipykernel)",
   "language": "python",
   "name": "python3"
  },
  "language_info": {
   "codemirror_mode": {
    "name": "ipython",
    "version": 3
   },
   "file_extension": ".py",
   "mimetype": "text/x-python",
   "name": "python",
   "nbconvert_exporter": "python",
   "pygments_lexer": "ipython3",
   "version": "3.9.19"
  }
 },
 "nbformat": 4,
 "nbformat_minor": 2
}
