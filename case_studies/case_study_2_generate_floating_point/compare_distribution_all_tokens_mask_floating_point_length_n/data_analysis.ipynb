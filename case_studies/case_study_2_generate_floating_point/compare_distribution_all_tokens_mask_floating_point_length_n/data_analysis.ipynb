{
  "cells": [
    {
      "cell_type": "markdown",
      "metadata": {
        "id": "2UQh_6o-d7Jv"
      },
      "source": [
        "# Experiments - All tokens - Max tokens = 3"
      ]
    },
    {
      "cell_type": "code",
      "execution_count": 1,
      "metadata": {
        "id": "At-ZZ-hy8q0Q"
      },
      "outputs": [],
      "source": [
        "import numpy as np\n",
        "import matplotlib.pyplot as plt\n",
        "import seaborn as sns\n",
        "import pandas as pd\n",
        "from scipy.stats import chi2\n",
        "from scipy.stats import ks_2samp"
      ]
    },
    {
      "cell_type": "code",
      "execution_count": 2,
      "metadata": {
        "id": "O4D1gOmWOWwE"
      },
      "outputs": [],
      "source": [
        "# 10k samples from PDFA obtained by Quantization Equivalence with kappa=100 and time bound of 300 seconds\n",
        "PDFA = pd.read_csv('./results/pdfa_10k_all_tokens_length_n.csv')\n",
        "# 10k samples from GPT2\n",
        "LM = pd.read_csv('./results/llm_10k_all_tokens_length_n.csv')\n",
        "# 10k samples from OUTLINES\n",
        "OUTLINES = pd.read_csv('./results/outlines_10k_length_n.csv')"
      ]
    },
    {
      "cell_type": "markdown",
      "metadata": {
        "id": "214ZjBE6Y2-t"
      },
      "source": [
        "## Number distribution"
      ]
    },
    {
      "cell_type": "code",
      "execution_count": 3,
      "metadata": {
        "colab": {
          "base_uri": "https://localhost:8080/",
          "height": 307
        },
        "id": "6oL6Pq4OFZ1b",
        "outputId": "68b8c324-7612-45eb-be12-73688c60627c"
      },
      "outputs": [
        {
          "data": {
            "image/png": "[encoded data removed]",
            "text/plain": [
              "<Figure size 648x216 with 3 Axes>"
            ]
          },
          "metadata": {
            "needs_background": "light"
          },
          "output_type": "display_data"
        }
      ],
      "source": [
        "# Plot of histograms\n",
        "B = 10\n",
        "ymax = 0.25\n",
        "\n",
        "fig, axes = plt.subplots(1, 3, figsize=(9,3))\n",
        "\n",
        "sns.histplot(PDFA['floating-point'].values, bins=B, stat='probability', color='tab:green', legend=False, ax=axes[0])\n",
        "axes[0].set_xlabel('Generated float')\n",
        "axes[0].set_title(r'PDFA')\n",
        "axes[0].set_ylim([0,ymax])\n",
        "\n",
        "sns.histplot(LM['floating-point'].values, bins=B, stat='probability', color='tab:orange', legend=False, ax=axes[1])\n",
        "axes[1].set_xlabel('Generated float')\n",
        "axes[1].set_title('GPT2')\n",
        "axes[1].set_ylim([0,ymax])\n",
        "axes[1].set_yticks([])\n",
        "axes[1].set_ylabel('')\n",
        "\n",
        "sns.histplot(OUTLINES['floating-point'].values, bins=B, stat='probability', color='tab:blue', legend=False, ax=axes[2])\n",
        "axes[2].set_xlabel('Generated float')\n",
        "axes[2].set_title(r'OUTLINES')\n",
        "axes[2].set_ylim([0,ymax])\n",
        "axes[2].set_yticks([])\n",
        "axes[2].set_ylabel('')\n",
        "\n",
        "plt.tight_layout()\n",
        "plt.savefig('Histogram_10k_all_tokens.png')"
      ]
    },
    {
      "cell_type": "code",
      "execution_count": 4,
      "metadata": {
        "colab": {
          "base_uri": "https://localhost:8080/"
        },
        "id": "fCp1a9DNM2GQ",
        "outputId": "e79628e1-c657-4b86-d91b-34d729d16b87"
      },
      "outputs": [
        {
          "name": "stdout",
          "output_type": "stream",
          "text": [
            "Chi2 PDFA vs LM : 5.771999161255701\n",
            "Chi2 OUTLINES vs LM : 176.29218980002892\n",
            "pvalue PDFA vs LM: 0.7625029143624609\n",
            "pvalue OUTLINES vs LM: 3.010183578482419e-33\n"
          ]
        }
      ],
      "source": [
        "# Chi2 test with 10 bins\n",
        "B = 10\n",
        "\n",
        "# Grouping the data\n",
        "pdfa = np.histogram(PDFA, bins=B)[0]\n",
        "lm = np.histogram(LM, bins=B)[0]\n",
        "outlines = np.histogram(OUTLINES, bins=B)[0]\n",
        "\n",
        "# Chi2 statistics\n",
        "chi2_PDFA_LM = np.sum((pdfa-lm)**2/(pdfa+lm))\n",
        "print(f'Chi2 PDFA vs LM : {chi2_PDFA_LM}')\n",
        "\n",
        "chi2_OUT_LM = np.sum((outlines-lm)**2/(outlines+lm))\n",
        "print(f'Chi2 OUTLINES vs LM : {chi2_OUT_LM}')\n",
        "\n",
        "# Degrees of freedom\n",
        "df=B-1\n",
        "\n",
        "# Chi2 pvalue\n",
        "p_value_PDFA_LM = chi2.sf(chi2_PDFA_LM, df)\n",
        "print(f'pvalue PDFA vs LM: {p_value_PDFA_LM}')\n",
        "\n",
        "p_value_OUT_LM = chi2.sf(chi2_OUT_LM, df)\n",
        "print(f'pvalue OUTLINES vs LM: {p_value_OUT_LM}')"
      ]
    },
    {
      "cell_type": "code",
      "execution_count": 5,
      "metadata": {
        "colab": {
          "base_uri": "https://localhost:8080/"
        },
        "id": "giBbzXgRGjdD",
        "outputId": "cad563c0-176a-46b2-8a78-59e2a4d533a8"
      },
      "outputs": [
        {
          "name": "stdout",
          "output_type": "stream",
          "text": [
            "Chi2 PDFA vs LM : 118.96148557206732\n",
            "Chi2 OUTLINES vs LM : 319.8876023339378\n",
            "pvalue PDFA vs LM: 1.7339655867934922e-16\n",
            "pvalue OUTLINES vs LM: 1.6517979876307252e-56\n"
          ]
        }
      ],
      "source": [
        "# Chi2 test with 20 bins\n",
        "B = 20\n",
        "\n",
        "# Grouping the data\n",
        "pdfa = np.histogram(PDFA, bins=B)[0]\n",
        "lm = np.histogram(LM, bins=B)[0]\n",
        "outlines = np.histogram(OUTLINES, bins=B)[0]\n",
        "\n",
        "# Chi2 statistics\n",
        "chi2_PDFA_LM = np.sum((pdfa-lm)**2/(pdfa+lm))\n",
        "print(f'Chi2 PDFA vs LM : {chi2_PDFA_LM}')\n",
        "\n",
        "chi2_OUT_LM = np.sum((outlines-lm)**2/(outlines+lm))\n",
        "print(f'Chi2 OUTLINES vs LM : {chi2_OUT_LM}')\n",
        "\n",
        "# Degrees of freedom\n",
        "df=B-1\n",
        "\n",
        "# Chi2 pvalue\n",
        "p_value_PDFA_LM = chi2.sf(chi2_PDFA_LM, df)\n",
        "print(f'pvalue PDFA vs LM: {p_value_PDFA_LM}')\n",
        "\n",
        "p_value_OUT_LM = chi2.sf(chi2_OUT_LM, df)\n",
        "print(f'pvalue OUTLINES vs LM: {p_value_OUT_LM}')"
      ]
    },
    {
      "cell_type": "code",
      "execution_count": 6,
      "metadata": {
        "colab": {
          "base_uri": "https://localhost:8080/"
        },
        "id": "p7RPsU-_q41L",
        "outputId": "4d434d1b-6495-4b98-e0f1-ec2811407311"
      },
      "outputs": [
        {
          "name": "stdout",
          "output_type": "stream",
          "text": [
            "KS PDFA vs LM: 0.0964\n",
            "pvalue PDFA vs LM: 7.612065077083311e-41\n",
            "KS OUTLINES vs LM: 0.0899\n",
            "pvalue OUTLINES vs LM: 1.4309870391417165e-35\n"
          ]
        }
      ],
      "source": [
        "# KS test\n",
        "ks_PDFA, p_value_PDFA = ks_2samp(PDFA['floating-point'].values, LM['floating-point'].values)\n",
        "ks_OUT, p_value_OUT = ks_2samp(OUTLINES['floating-point'].values, LM['floating-point'].values)\n",
        "\n",
        "print(\"KS PDFA vs LM:\", ks_PDFA)\n",
        "print(\"pvalue PDFA vs LM:\", p_value_PDFA)\n",
        "\n",
        "print(\"KS OUTLINES vs LM:\", ks_OUT)\n",
        "print(\"pvalue OUTLINES vs LM:\", p_value_OUT)"
      ]
    },
    {
      "cell_type": "markdown",
      "metadata": {
        "id": "fX5-M3BlZATi"
      },
      "source": [
        "## Length distribution"
      ]
    },
    {
      "cell_type": "code",
      "execution_count": 7,
      "metadata": {
        "id": "XbEPPn0h1R8Q"
      },
      "outputs": [],
      "source": [
        "pdfa_len = PDFA['floating-point'].apply(lambda x: len(str(x))-2)\n",
        "lm_len = LM['floating-point'].apply(lambda x: len(str(x))-2)\n",
        "out_len = OUTLINES['floating-point'].apply(lambda x: len(str(x))-2)"
      ]
    },
    {
      "cell_type": "code",
      "execution_count": 8,
      "metadata": {
        "id": "vdcfFZ6RS34z"
      },
      "outputs": [],
      "source": [
        "N = len(PDFA)\n",
        "\n",
        "PDFA_LEN = pd.DataFrame(\n",
        "    {\n",
        "        'Model': ['PDFA']*N,\n",
        "        'Length': pdfa_len.values\n",
        "    }\n",
        ")\n",
        "\n",
        "LM_LEN = pd.DataFrame(\n",
        "    {\n",
        "        'Model': ['GPT2']*N,\n",
        "        'Length': lm_len.values\n",
        "    }\n",
        ")\n",
        "\n",
        "OUT_LEN = pd.DataFrame(\n",
        "    {\n",
        "        'Model': ['OUTLINES']*N,\n",
        "        'Length': out_len.values\n",
        "    }\n",
        ")\n",
        "\n",
        "\n",
        "LENGTH = pd.concat([PDFA_LEN,LM_LEN, OUT_LEN], ignore_index=True, axis=0)"
      ]
    },
    {
      "cell_type": "code",
      "execution_count": 9,
      "metadata": {
        "id": "W4eE33LTUrEs"
      },
      "outputs": [],
      "source": [
        "m = len(LENGTH.value_counts())\n",
        "\n",
        "Model = [LENGTH.value_counts().index[i][0] for i in range(m)]\n",
        "Length = [LENGTH.value_counts().index[i][1] for i in range(m)]\n",
        "Probability = [LENGTH.value_counts()[i]/N for i in range(m)]\n",
        "\n",
        "LENGTH_PROBA = pd.DataFrame(\n",
        "    {\n",
        "        'Model' : Model,\n",
        "        'Length' : Length,\n",
        "        'Probability' : Probability\n",
        "    }\n",
        ")"
      ]
    },
    {
      "cell_type": "code",
      "execution_count": 10,
      "metadata": {
        "colab": {
          "base_uri": "https://localhost:8080/",
          "height": 357
        },
        "id": "rzW0fWwdX-Gl",
        "outputId": "680eb8c9-a34b-4586-8b42-978287e220dc"
      },
      "outputs": [
        {
          "data": {
            "image/png": "[encoded data removed]",
            "text/plain": [
              "<Figure size 337.5x252 with 1 Axes>"
            ]
          },
          "metadata": {
            "needs_background": "light"
          },
          "output_type": "display_data"
        }
      ],
      "source": [
        "sns.catplot(x = 'Length',\n",
        "            y='Probability',\n",
        "            hue = 'Model',\n",
        "            data=LENGTH_PROBA,\n",
        "            kind='bar',\n",
        "            height=3.5\n",
        "            )\n",
        "\n",
        "plt.savefig('Barplot_10k_all_tokens.png')"
      ]
    },
    {
      "cell_type": "code",
      "execution_count": 11,
      "metadata": {
        "colab": {
          "base_uri": "https://localhost:8080/"
        },
        "id": "Ct1TL1lZakGC",
        "outputId": "68f40d11-33e8-4e45-837e-c06a9c82cccf"
      },
      "outputs": [
        {
          "name": "stdout",
          "output_type": "stream",
          "text": [
            "KS LENGTH PDFA vs LM: 0.7826\n",
            "KS LENGTH OUTLINES vs LM: 0.1245\n",
            "pvalue LENGTH PDFA vs LM: 0.0\n",
            "pvalue LENGTH OUTLINES vs LM: 6.496807846145073e-68\n"
          ]
        }
      ],
      "source": [
        "# KS test for Length\n",
        "ks_length_PDFA_LM, p_value_length_PDFA_LM = ks_2samp(pdfa_len.values, lm_len.values)\n",
        "ks_length_OUT_LM, p_value_length_OUT_LM = ks_2samp(out_len.values, lm_len.values)\n",
        "\n",
        "print(\"KS LENGTH PDFA vs LM:\", ks_length_PDFA_LM)\n",
        "print(\"KS LENGTH OUTLINES vs LM:\", ks_length_OUT_LM)\n",
        "print(\"pvalue LENGTH PDFA vs LM:\", p_value_length_PDFA_LM)\n",
        "print(\"pvalue LENGTH OUTLINES vs LM:\", p_value_length_OUT_LM)"
      ]
    }
  ],
  "metadata": {
    "colab": {
      "provenance": []
    },
    "kernelspec": {
      "display_name": "Python 3",
      "name": "python3"
    },
    "language_info": {
      "codemirror_mode": {
        "name": "ipython",
        "version": 3
      },
      "file_extension": ".py",
      "mimetype": "text/x-python",
      "name": "python",
      "nbconvert_exporter": "python",
      "pygments_lexer": "ipython3",
      "version": "3.9.19"
    }
  },
  "nbformat": 4,
  "nbformat_minor": 0
}
