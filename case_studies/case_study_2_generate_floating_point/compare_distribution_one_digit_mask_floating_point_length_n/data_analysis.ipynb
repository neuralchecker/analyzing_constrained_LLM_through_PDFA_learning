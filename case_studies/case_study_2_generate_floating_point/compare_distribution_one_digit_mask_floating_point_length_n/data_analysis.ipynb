{
  "cells": [
    {
      "cell_type": "markdown",
      "metadata": {
        "id": "9rxECOXsNWm7"
      },
      "source": [
        "# Experiments - Tokens are only DIGITS 0,...,9 - Max Length = Infinity"
      ]
    },
    {
      "cell_type": "code",
      "execution_count": 1,
      "metadata": {
        "id": "At-ZZ-hy8q0Q"
      },
      "outputs": [],
      "source": [
        "import numpy as np\n",
        "import matplotlib.pyplot as plt\n",
        "import seaborn as sns\n",
        "import pandas as pd\n",
        "from scipy.stats import chi2\n",
        "from scipy.stats import ks_2samp"
      ]
    },
    {
      "cell_type": "code",
      "execution_count": 2,
      "metadata": {
        "id": "O4D1gOmWOWwE"
      },
      "outputs": [],
      "source": [
        "# 10k samples from PDFA obtained by Quantization Equivalence with kappa=100 and time bound of 30 seconds\n",
        "PDFA_QNT = pd.read_csv('./results/PDFA_10k_length_n.csv')\n",
        "# 10k samples from GPT2\n",
        "LM = pd.read_csv('./results/llm_10k_length_n.csv')"
      ]
    },
    {
      "cell_type": "markdown",
      "metadata": {
        "id": "214ZjBE6Y2-t"
      },
      "source": [
        "## Number distribution"
      ]
    },
    {
      "cell_type": "code",
      "execution_count": 3,
      "metadata": {
        "colab": {
          "base_uri": "https://localhost:8080/",
          "height": 307
        },
        "id": "6oL6Pq4OFZ1b",
        "outputId": "f013ac87-4ef2-4255-d191-ed666c88808d"
      },
      "outputs": [
        {
          "data": {
            "image/png": "[encoded data removed]",
            "text/plain": [
              "<Figure size 648x216 with 3 Axes>"
            ]
          },
          "metadata": {
            "needs_background": "light"
          },
          "output_type": "display_data"
        }
      ],
      "source": [
        "# Plot of histograms\n",
        "B = 10\n",
        "ymax = 0.32\n",
        "\n",
        "fig, axes = plt.subplots(1, 3, figsize=(9,3))\n",
        "\n",
        "sns.kdeplot(PDFA_QNT['floating-point'].values, fill=True, label='PDFA', color='tab:blue', alpha=0.1, linewidth=2, ax=axes[0])\n",
        "sns.kdeplot(LM['floating-point'].values, fill=True, label='GPT2', color='tab:orange', alpha=0.1, linewidth=2, ax=axes[0])\n",
        "axes[0].set_xlabel('Generated float')\n",
        "axes[0].set_title('Density estimation')\n",
        "axes[0].legend()\n",
        "\n",
        "sns.histplot(PDFA_QNT['floating-point'].values, bins=B, stat='probability', color='tab:blue', legend=False, ax=axes[1])\n",
        "axes[1].set_xlabel('Generated float')\n",
        "axes[1].set_title(r'PDFA $\\kappa=100$')\n",
        "axes[1].set_ylim([0,ymax])\n",
        "\n",
        "sns.histplot(LM['floating-point'].values, bins=B, stat='probability', color='tab:orange', legend=False, ax=axes[2])\n",
        "axes[2].set_xlabel('Generated float')\n",
        "axes[2].set_title('GPT2')\n",
        "axes[2].set_ylim([0,ymax])\n",
        "axes[2].set_yticks([])\n",
        "axes[2].set_ylabel('')\n",
        "\n",
        "plt.tight_layout()\n",
        "plt.savefig('Histograms_Floats_QNT_kappa100.png')"
      ]
    },
    {
      "cell_type": "code",
      "execution_count": 4,
      "metadata": {
        "colab": {
          "base_uri": "https://localhost:8080/"
        },
        "id": "fCp1a9DNM2GQ",
        "outputId": "a56c8a1e-5fff-4f63-e767-99058a19d5bc"
      },
      "outputs": [
        {
          "name": "stdout",
          "output_type": "stream",
          "text": [
            "Chi2 PDFA vs LM : 6.973512509337853\n",
            "pvalue PDFA vs LM: 0.639877255654497\n"
          ]
        }
      ],
      "source": [
        "# Chi2 test with 10 bins\n",
        "B = 10\n",
        "\n",
        "# Grouping the data\n",
        "pdfa = np.histogram(PDFA_QNT, bins=B)[0]\n",
        "lm = np.histogram(LM, bins=B)[0]\n",
        "\n",
        "# Chi2 statistics\n",
        "chi2_PDFA_LM = np.sum((pdfa-lm)**2/(pdfa+lm))\n",
        "print(f'Chi2 PDFA vs LM : {chi2_PDFA_LM}')\n",
        "\n",
        "# Degrees of freedom\n",
        "df=B-1\n",
        "\n",
        "# Chi2 pvalue\n",
        "p_value_PDFA_LM = chi2.sf(chi2_PDFA_LM, df)\n",
        "print(f'pvalue PDFA vs LM: {p_value_PDFA_LM}')"
      ]
    },
    {
      "cell_type": "code",
      "execution_count": 5,
      "metadata": {
        "colab": {
          "base_uri": "https://localhost:8080/"
        },
        "id": "104gutsiE_lt",
        "outputId": "491b692b-46dc-444c-af05-261dcc5be694"
      },
      "outputs": [
        {
          "name": "stdout",
          "output_type": "stream",
          "text": [
            "Chi2 PDFA vs LM : 18.441545346054806\n",
            "pvalue PDFA vs LM: 0.4931483540990905\n"
          ]
        }
      ],
      "source": [
        "# Chi2 test with 20 bins\n",
        "B = 20\n",
        "\n",
        "# Grouping the data\n",
        "pdfa = np.histogram(PDFA_QNT, bins=B)[0]\n",
        "lm = np.histogram(LM, bins=B)[0]\n",
        "\n",
        "# Chi2 statistics\n",
        "chi2_PDFA_LM = np.sum((pdfa-lm)**2/(pdfa+lm))\n",
        "print(f'Chi2 PDFA vs LM : {chi2_PDFA_LM}')\n",
        "\n",
        "# Degrees of freedom\n",
        "df=B-1\n",
        "\n",
        "# Chi2 pvalue\n",
        "p_value_PDFA_LM = chi2.sf(chi2_PDFA_LM, df)\n",
        "print(f'pvalue PDFA vs LM: {p_value_PDFA_LM}')"
      ]
    },
    {
      "cell_type": "code",
      "execution_count": 6,
      "metadata": {
        "colab": {
          "base_uri": "https://localhost:8080/"
        },
        "id": "fsjS9FpsQSd3",
        "outputId": "40ef0277-d353-4287-a4de-4aa4938782d8"
      },
      "outputs": [
        {
          "name": "stdout",
          "output_type": "stream",
          "text": [
            "KS PDFA vs LM: 0.0085\n",
            "pvalue PDFA vs LM: 0.8629266196033867\n"
          ]
        }
      ],
      "source": [
        "# KS test\n",
        "ks, p_value = ks_2samp(PDFA_QNT['floating-point'].values, LM['floating-point'].values)\n",
        "\n",
        "print(\"KS PDFA vs LM:\", ks)\n",
        "print(\"pvalue PDFA vs LM:\", p_value)"
      ]
    },
    {
      "cell_type": "markdown",
      "metadata": {
        "id": "fX5-M3BlZATi"
      },
      "source": [
        "## Length distribution"
      ]
    },
    {
      "cell_type": "code",
      "execution_count": 7,
      "metadata": {
        "id": "XbEPPn0h1R8Q"
      },
      "outputs": [],
      "source": [
        "pdfa_len = PDFA_QNT['floating-point'].apply(lambda x: len(str(x))-2)\n",
        "lm_len = LM['floating-point'].apply(lambda x: len(str(x))-2)"
      ]
    },
    {
      "cell_type": "code",
      "execution_count": 8,
      "metadata": {
        "id": "vdcfFZ6RS34z"
      },
      "outputs": [],
      "source": [
        "N = len(PDFA_QNT)\n",
        "\n",
        "PDFA_LEN = pd.DataFrame(\n",
        "    {\n",
        "        'Model': ['PDFA']*N,\n",
        "        'Length': pdfa_len.values\n",
        "    }\n",
        ")\n",
        "\n",
        "LM_LEN = pd.DataFrame(\n",
        "    {\n",
        "        'Model': ['GPT2']*N,\n",
        "        'Length': lm_len.values\n",
        "    }\n",
        ")\n",
        "\n",
        "LENGTH = pd.concat([PDFA_LEN,LM_LEN], ignore_index=True, axis=0)"
      ]
    },
    {
      "cell_type": "code",
      "execution_count": 9,
      "metadata": {
        "id": "W4eE33LTUrEs"
      },
      "outputs": [],
      "source": [
        "m = len(LENGTH.value_counts())\n",
        "\n",
        "Model = [LENGTH.value_counts().index[i][0] for i in range(m)]\n",
        "Length = [LENGTH.value_counts().index[i][1] for i in range(m)]\n",
        "Probability = [LENGTH.value_counts()[i]/N for i in range(m)]\n",
        "\n",
        "LENGTH_PROBA = pd.DataFrame(\n",
        "    {\n",
        "        'Model' : Model,\n",
        "        'Length' : Length,\n",
        "        'Probability' : Probability\n",
        "    }\n",
        ")"
      ]
    },
    {
      "cell_type": "code",
      "execution_count": 10,
      "metadata": {
        "colab": {
          "base_uri": "https://localhost:8080/",
          "height": 256
        },
        "id": "rzW0fWwdX-Gl",
        "outputId": "7b4fe78c-00ff-4f24-eb58-41f2c98f139d"
      },
      "outputs": [
        {
          "data": {
            "image/png": "[encoded data removed]",
            "text/plain": [
              "<Figure size 242.125x180 with 1 Axes>"
            ]
          },
          "metadata": {
            "needs_background": "light"
          },
          "output_type": "display_data"
        }
      ],
      "source": [
        "sns.catplot(x = 'Length',\n",
        "            y='Probability',\n",
        "            hue = 'Model',\n",
        "            data=LENGTH_PROBA,\n",
        "            kind='bar',\n",
        "            height=2.5\n",
        "            )\n",
        "plt.savefig('Barplot_Length_kappa_100.png')"
      ]
    },
    {
      "cell_type": "code",
      "execution_count": 11,
      "metadata": {
        "colab": {
          "base_uri": "https://localhost:8080/"
        },
        "id": "Ct1TL1lZakGC",
        "outputId": "fd0505d0-bc61-4a02-c7b3-fb07d8279997"
      },
      "outputs": [
        {
          "name": "stdout",
          "output_type": "stream",
          "text": [
            "KS LENGTH: 0.0014\n",
            "pvalue LENGTH: 0.9999999999999993\n"
          ]
        }
      ],
      "source": [
        "# KS test for Length\n",
        "ks_length, p_value_length = ks_2samp(pdfa_len.values, lm_len.values)\n",
        "\n",
        "print(\"KS LENGTH:\", ks_length)\n",
        "print(\"pvalue LENGTH:\", p_value_length)"
      ]
    }
  ],
  "metadata": {
    "colab": {
      "provenance": []
    },
    "kernelspec": {
      "display_name": "Python 3",
      "name": "python3"
    },
    "language_info": {
      "codemirror_mode": {
        "name": "ipython",
        "version": 3
      },
      "file_extension": ".py",
      "mimetype": "text/x-python",
      "name": "python",
      "nbconvert_exporter": "python",
      "pygments_lexer": "ipython3",
      "version": "3.9.19"
    }
  },
  "nbformat": 4,
  "nbformat_minor": 0
}
